{
 "cells": [
  {
   "cell_type": "markdown",
   "metadata": {},
   "source": [
    "## PyTorch\n"
   ]
  },
  {
   "cell_type": "code",
   "execution_count": 1,
   "metadata": {
    "ExecuteTime": {
     "end_time": "2024-07-04T22:57:28.491870Z",
     "start_time": "2024-07-04T22:57:28.488523Z"
    }
   },
   "outputs": [],
   "source": [
    "import torch\n",
    "\n",
    "\n",
    "def create_torch_tensors(device):\n",
    "    x = torch.rand((10000, 10000), dtype=torch.float32)\n",
    "    y = torch.rand((10000, 10000), dtype=torch.float32)\n",
    "    x = x.to(device)\n",
    "    y = y.to(device)\n",
    "\n",
    "    return x, y"
   ]
  },
  {
   "cell_type": "code",
   "execution_count": 2,
   "metadata": {
    "ExecuteTime": {
     "end_time": "2024-07-04T11:25:50.922140Z",
     "start_time": "2024-07-04T11:25:49.999095Z"
    }
   },
   "outputs": [],
   "source": [
    "device = torch.device(\"cpu\")\n",
    "x, y = create_torch_tensors(device)"
   ]
  },
  {
   "cell_type": "code",
   "execution_count": 3,
   "metadata": {
    "ExecuteTime": {
     "end_time": "2024-07-04T11:25:57.161053Z",
     "start_time": "2024-07-04T11:25:53.812133Z"
    }
   },
   "outputs": [
    {
     "name": "stdout",
     "output_type": "stream",
     "text": [
      "28.9 ms ± 1.41 ms per loop (mean ± std. dev. of 7 runs, 10 loops each)\n"
     ]
    }
   ],
   "source": [
    "%%timeit\n",
    "x * y"
   ]
  },
  {
   "cell_type": "code",
   "execution_count": 4,
   "metadata": {
    "ExecuteTime": {
     "end_time": "2024-07-04T11:26:29.723738Z",
     "start_time": "2024-07-04T11:26:27.947763Z"
    }
   },
   "outputs": [],
   "source": [
    "device = torch.device(\"mps\")\n",
    "x, y = create_torch_tensors(device)"
   ]
  },
  {
   "cell_type": "code",
   "execution_count": 5,
   "metadata": {
    "ExecuteTime": {
     "end_time": "2024-07-04T11:26:45.283151Z",
     "start_time": "2024-07-04T11:26:32.708266Z"
    }
   },
   "outputs": [
    {
     "name": "stdout",
     "output_type": "stream",
     "text": [
      "14 ms ± 191 μs per loop (mean ± std. dev. of 7 runs, 100 loops each)\n"
     ]
    }
   ],
   "source": [
    "%%timeit\n",
    "x * y"
   ]
  },
  {
   "cell_type": "markdown",
   "metadata": {},
   "source": [
    "## TensorFlow\n"
   ]
  },
  {
   "cell_type": "code",
   "execution_count": null,
   "metadata": {
    "ExecuteTime": {
     "end_time": "2024-07-04T11:27:30.992547Z",
     "start_time": "2024-07-04T11:27:23.584843Z"
    }
   },
   "outputs": [],
   "source": [
    "import tensorflow as tf\n",
    "\n",
    "\n",
    "def create_tf_tensors():\n",
    "    x = tf.random.uniform((10000, 10000), dtype=tf.float32)\n",
    "    y = tf.random.uniform((10000, 10000), dtype=tf.float32)\n",
    "\n",
    "    return x, y\n",
    "\n",
    "\n",
    "x, y = create_tf_tensors()"
   ]
  },
  {
   "cell_type": "code",
   "execution_count": null,
   "metadata": {
    "ExecuteTime": {
     "end_time": "2024-07-04T11:27:31.726053Z",
     "start_time": "2024-07-04T11:27:30.993727Z"
    }
   },
   "outputs": [],
   "source": [
    "%%timeit\n",
    "\n",
    "with tf.device(\"/CPU:0\"):\n",
    "    x * y"
   ]
  },
  {
   "cell_type": "code",
   "execution_count": null,
   "metadata": {
    "ExecuteTime": {
     "end_time": "2024-07-04T11:27:44.313317Z",
     "start_time": "2024-07-04T11:27:31.727927Z"
    }
   },
   "outputs": [],
   "source": [
    "%%timeit\n",
    "\n",
    "with tf.device(\"/GPU:0\"):\n",
    "    x * y"
   ]
  },
  {
   "cell_type": "code",
   "execution_count": null,
   "metadata": {},
   "outputs": [],
   "source": []
  }
 ],
 "metadata": {
  "kernelspec": {
   "display_name": "Python 3 (ipykernel)",
   "language": "python",
   "name": "python3"
  },
  "language_info": {
   "codemirror_mode": {
    "name": "ipython",
    "version": 3
   },
   "file_extension": ".py",
   "mimetype": "text/x-python",
   "name": "python",
   "nbconvert_exporter": "python",
   "pygments_lexer": "ipython3",
   "version": "3.11.9"
  }
 },
 "nbformat": 4,
 "nbformat_minor": 4
}
